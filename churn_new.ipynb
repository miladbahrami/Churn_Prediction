{
  "cells": [
    {
      "cell_type": "code",
      "execution_count": 243,
      "metadata": {
        "id": "8iueSNa7Lu4k"
      },
      "outputs": [],
      "source": [
        "# Import Libraries\n",
        "import pandas as pd\n",
        "import numpy as np\n",
        "import matplotlib.pyplot as plt\n",
        "from datetime import date\n",
        "from pandas.tseries.offsets import DateOffset\n",
        "from ydata_profiling import ProfileReport"
      ]
    },
    {
      "cell_type": "markdown",
      "metadata": {
        "id": "ji3BG-QlLu4o"
      },
      "source": [
        "# Data Cleaning"
      ]
    },
    {
      "cell_type": "code",
      "execution_count": 201,
      "metadata": {
        "id": "JUSUXbS5Lu4p"
      },
      "outputs": [],
      "source": [
        "# Read data\n",
        "df_install = pd.read_csv('installs.txt', sep='\\t')\n",
        "df_start_target = pd.read_csv('app starts july.txt', sep='\\t')\n",
        "df_start = pd.read_csv('app starts.txt', sep='\\t')\n",
        "df_view_target = pd.read_csv('brochure views july.txt', sep='\\t')\n",
        "df_view = pd.read_csv('brochure views.txt', sep='\\t')"
      ]
    },
    {
      "cell_type": "code",
      "execution_count": 202,
      "metadata": {
        "colab": {
          "base_uri": "https://localhost:8080/",
          "height": 206
        },
        "id": "uyBxQta8Lu4p",
        "outputId": "78030861-ba1f-4017-ee78-4c4f0ec675f9"
      },
      "outputs": [
        {
          "data": {
            "text/html": [
              "<div>\n",
              "<style scoped>\n",
              "    .dataframe tbody tr th:only-of-type {\n",
              "        vertical-align: middle;\n",
              "    }\n",
              "\n",
              "    .dataframe tbody tr th {\n",
              "        vertical-align: top;\n",
              "    }\n",
              "\n",
              "    .dataframe thead th {\n",
              "        text-align: right;\n",
              "    }\n",
              "</style>\n",
              "<table border=\"1\" class=\"dataframe\">\n",
              "  <thead>\n",
              "    <tr style=\"text-align: right;\">\n",
              "      <th></th>\n",
              "      <th>id</th>\n",
              "      <th>InstallDate</th>\n",
              "      <th>productId</th>\n",
              "      <th>userId</th>\n",
              "      <th>model</th>\n",
              "      <th>campaignId</th>\n",
              "    </tr>\n",
              "  </thead>\n",
              "  <tbody>\n",
              "    <tr>\n",
              "      <th>0</th>\n",
              "      <td>37371890</td>\n",
              "      <td>2017-05-04 10:06:27.8070000</td>\n",
              "      <td>de.kaufda.kaufda</td>\n",
              "      <td>5fc13850-de51-4426-96ce-72aaec895abb</td>\n",
              "      <td>ipad2,7</td>\n",
              "      <td>000000</td>\n",
              "    </tr>\n",
              "    <tr>\n",
              "      <th>1</th>\n",
              "      <td>36979918</td>\n",
              "      <td>2017-04-24 09:27:16.1730000</td>\n",
              "      <td>com-bonial-kaufda</td>\n",
              "      <td>b13a035e-e9bf-49db-8f93-b49d491bef53</td>\n",
              "      <td>sm-g800f</td>\n",
              "      <td>3iikhy</td>\n",
              "    </tr>\n",
              "    <tr>\n",
              "      <th>2</th>\n",
              "      <td>37371070</td>\n",
              "      <td>2017-05-04 16:05:09.5680000</td>\n",
              "      <td>de.kaufda.kaufda</td>\n",
              "      <td>5deb0aad-43bb-4ee1-868b-98f36c3d5bbf</td>\n",
              "      <td>iphone8,4</td>\n",
              "      <td>tl3cy8</td>\n",
              "    </tr>\n",
              "    <tr>\n",
              "      <th>3</th>\n",
              "      <td>36897929</td>\n",
              "      <td>2017-04-22 13:18:18.4370000</td>\n",
              "      <td>com-bonial-kaufda</td>\n",
              "      <td>64707e97-d5e1-4622-a89a-bebf8432fd33</td>\n",
              "      <td>sm-g955f</td>\n",
              "      <td>000000</td>\n",
              "    </tr>\n",
              "    <tr>\n",
              "      <th>4</th>\n",
              "      <td>36606053</td>\n",
              "      <td>2017-04-15 14:03:51.1990000</td>\n",
              "      <td>com-bonial-kaufda</td>\n",
              "      <td>770a391d-eda5-423b-b672-845f1e12661f</td>\n",
              "      <td>sm-j320h</td>\n",
              "      <td>000000</td>\n",
              "    </tr>\n",
              "  </tbody>\n",
              "</table>\n",
              "</div>"
            ],
            "text/plain": [
              "         id                  InstallDate          productId  \\\n",
              "0  37371890  2017-05-04 10:06:27.8070000   de.kaufda.kaufda   \n",
              "1  36979918  2017-04-24 09:27:16.1730000  com-bonial-kaufda   \n",
              "2  37371070  2017-05-04 16:05:09.5680000   de.kaufda.kaufda   \n",
              "3  36897929  2017-04-22 13:18:18.4370000  com-bonial-kaufda   \n",
              "4  36606053  2017-04-15 14:03:51.1990000  com-bonial-kaufda   \n",
              "\n",
              "                                 userId      model campaignId  \n",
              "0  5fc13850-de51-4426-96ce-72aaec895abb    ipad2,7     000000  \n",
              "1  b13a035e-e9bf-49db-8f93-b49d491bef53   sm-g800f     3iikhy  \n",
              "2  5deb0aad-43bb-4ee1-868b-98f36c3d5bbf  iphone8,4     tl3cy8  \n",
              "3  64707e97-d5e1-4622-a89a-bebf8432fd33   sm-g955f     000000  \n",
              "4  770a391d-eda5-423b-b672-845f1e12661f   sm-j320h     000000  "
            ]
          },
          "execution_count": 202,
          "metadata": {},
          "output_type": "execute_result"
        }
      ],
      "source": [
        "df_install.head(5)"
      ]
    },
    {
      "cell_type": "code",
      "execution_count": 203,
      "metadata": {
        "colab": {
          "base_uri": "https://localhost:8080/"
        },
        "id": "BIS0vH32Lu4q",
        "outputId": "44450bd3-4df6-4a00-88b2-408bbfb2e85e"
      },
      "outputs": [
        {
          "name": "stdout",
          "output_type": "stream",
          "text": [
            "<class 'pandas.core.frame.DataFrame'>\n",
            "RangeIndex: 20000 entries, 0 to 19999\n",
            "Data columns (total 6 columns):\n",
            " #   Column       Non-Null Count  Dtype \n",
            "---  ------       --------------  ----- \n",
            " 0   id           20000 non-null  int64 \n",
            " 1   InstallDate  20000 non-null  object\n",
            " 2   productId    20000 non-null  object\n",
            " 3   userId       20000 non-null  object\n",
            " 4   model        19963 non-null  object\n",
            " 5   campaignId   20000 non-null  object\n",
            "dtypes: int64(1), object(5)\n",
            "memory usage: 937.6+ KB\n"
          ]
        }
      ],
      "source": [
        "# Checking data types\n",
        "df_install.info()"
      ]
    },
    {
      "cell_type": "code",
      "execution_count": 204,
      "metadata": {
        "id": "8ylewZygLu4r"
      },
      "outputs": [],
      "source": [
        "# Fixing data types\n",
        "df_install['InstallDate'] = pd.to_datetime(df_install['InstallDate'], format='%Y-%m-%d %H:%M:%S.%f').dt.normalize() # Truncating to date\n",
        "df_install = df_install.convert_dtypes()"
      ]
    },
    {
      "cell_type": "code",
      "execution_count": 205,
      "metadata": {
        "colab": {
          "base_uri": "https://localhost:8080/"
        },
        "id": "6aXagXGdLu4r",
        "outputId": "7290b2f1-9a09-427b-bf17-fa8af61b714a"
      },
      "outputs": [
        {
          "name": "stdout",
          "output_type": "stream",
          "text": [
            "<class 'pandas.core.frame.DataFrame'>\n",
            "RangeIndex: 20000 entries, 0 to 19999\n",
            "Data columns (total 6 columns):\n",
            " #   Column       Non-Null Count  Dtype         \n",
            "---  ------       --------------  -----         \n",
            " 0   id           20000 non-null  Int64         \n",
            " 1   InstallDate  20000 non-null  datetime64[ns]\n",
            " 2   productId    20000 non-null  string        \n",
            " 3   userId       20000 non-null  string        \n",
            " 4   model        19963 non-null  string        \n",
            " 5   campaignId   20000 non-null  string        \n",
            "dtypes: Int64(1), datetime64[ns](1), string(4)\n",
            "memory usage: 957.2 KB\n"
          ]
        }
      ],
      "source": [
        "df_install.info()"
      ]
    },
    {
      "cell_type": "code",
      "execution_count": 206,
      "metadata": {
        "colab": {
          "base_uri": "https://localhost:8080/",
          "height": 53
        },
        "id": "ybm9ni2t18p0",
        "outputId": "161fdda9-b8c0-4038-d067-4213e6e3720e"
      },
      "outputs": [
        {
          "data": {
            "text/html": [
              "<div>\n",
              "<style scoped>\n",
              "    .dataframe tbody tr th:only-of-type {\n",
              "        vertical-align: middle;\n",
              "    }\n",
              "\n",
              "    .dataframe tbody tr th {\n",
              "        vertical-align: top;\n",
              "    }\n",
              "\n",
              "    .dataframe thead th {\n",
              "        text-align: right;\n",
              "    }\n",
              "</style>\n",
              "<table border=\"1\" class=\"dataframe\">\n",
              "  <thead>\n",
              "    <tr style=\"text-align: right;\">\n",
              "      <th></th>\n",
              "      <th>id</th>\n",
              "      <th>InstallDate</th>\n",
              "      <th>productId</th>\n",
              "      <th>userId</th>\n",
              "      <th>model</th>\n",
              "      <th>campaignId</th>\n",
              "    </tr>\n",
              "  </thead>\n",
              "  <tbody>\n",
              "  </tbody>\n",
              "</table>\n",
              "</div>"
            ],
            "text/plain": [
              "Empty DataFrame\n",
              "Columns: [id, InstallDate, productId, userId, model, campaignId]\n",
              "Index: []"
            ]
          },
          "execution_count": 206,
          "metadata": {},
          "output_type": "execute_result"
        }
      ],
      "source": [
        "# Checking duplicates in installs\n",
        "df_install.groupby('userId').filter(lambda x: len(x) > 2)"
      ]
    },
    {
      "cell_type": "code",
      "execution_count": 207,
      "metadata": {
        "colab": {
          "base_uri": "https://localhost:8080/",
          "height": 206
        },
        "id": "m2pTgCsNLu4s",
        "outputId": "465c73eb-8b5a-48bd-89bb-584c57eacc3d"
      },
      "outputs": [
        {
          "data": {
            "text/html": [
              "<div>\n",
              "<style scoped>\n",
              "    .dataframe tbody tr th:only-of-type {\n",
              "        vertical-align: middle;\n",
              "    }\n",
              "\n",
              "    .dataframe tbody tr th {\n",
              "        vertical-align: top;\n",
              "    }\n",
              "\n",
              "    .dataframe thead th {\n",
              "        text-align: right;\n",
              "    }\n",
              "</style>\n",
              "<table border=\"1\" class=\"dataframe\">\n",
              "  <thead>\n",
              "    <tr style=\"text-align: right;\">\n",
              "      <th></th>\n",
              "      <th>id</th>\n",
              "      <th>userId</th>\n",
              "      <th>dateCreated</th>\n",
              "      <th>page_turn_count</th>\n",
              "      <th>view_duration</th>\n",
              "      <th>brochure_id</th>\n",
              "    </tr>\n",
              "  </thead>\n",
              "  <tbody>\n",
              "    <tr>\n",
              "      <th>0</th>\n",
              "      <td>6269194661</td>\n",
              "      <td>9491a960-206a-4a58-9177-e78cb1f05e70</td>\n",
              "      <td>2017-04-30 23:47:09.5390000</td>\n",
              "      <td>30</td>\n",
              "      <td>95172.0</td>\n",
              "      <td>672239440</td>\n",
              "    </tr>\n",
              "    <tr>\n",
              "      <th>1</th>\n",
              "      <td>6269192581</td>\n",
              "      <td>9491a960-206a-4a58-9177-e78cb1f05e70</td>\n",
              "      <td>2017-04-30 23:47:00.6970000</td>\n",
              "      <td>2</td>\n",
              "      <td>4000.0</td>\n",
              "      <td>673861625</td>\n",
              "    </tr>\n",
              "    <tr>\n",
              "      <th>2</th>\n",
              "      <td>6269188351</td>\n",
              "      <td>9491a960-206a-4a58-9177-e78cb1f05e70</td>\n",
              "      <td>2017-04-30 23:46:39.9170000</td>\n",
              "      <td>1</td>\n",
              "      <td>14000.0</td>\n",
              "      <td>660764240</td>\n",
              "    </tr>\n",
              "    <tr>\n",
              "      <th>3</th>\n",
              "      <td>6204426632</td>\n",
              "      <td>fa623647-dfc9-49b4-bbb6-77cbacd599f4</td>\n",
              "      <td>2017-04-30 23:46:13.5970000</td>\n",
              "      <td>64</td>\n",
              "      <td>168000.0</td>\n",
              "      <td>672658544</td>\n",
              "    </tr>\n",
              "    <tr>\n",
              "      <th>4</th>\n",
              "      <td>6204424112</td>\n",
              "      <td>9491a960-206a-4a58-9177-e78cb1f05e70</td>\n",
              "      <td>2017-04-30 23:46:02.1970000</td>\n",
              "      <td>1</td>\n",
              "      <td>33000.0</td>\n",
              "      <td>660764240</td>\n",
              "    </tr>\n",
              "  </tbody>\n",
              "</table>\n",
              "</div>"
            ],
            "text/plain": [
              "           id                                userId  \\\n",
              "0  6269194661  9491a960-206a-4a58-9177-e78cb1f05e70   \n",
              "1  6269192581  9491a960-206a-4a58-9177-e78cb1f05e70   \n",
              "2  6269188351  9491a960-206a-4a58-9177-e78cb1f05e70   \n",
              "3  6204426632  fa623647-dfc9-49b4-bbb6-77cbacd599f4   \n",
              "4  6204424112  9491a960-206a-4a58-9177-e78cb1f05e70   \n",
              "\n",
              "                   dateCreated  page_turn_count  view_duration  brochure_id  \n",
              "0  2017-04-30 23:47:09.5390000               30        95172.0    672239440  \n",
              "1  2017-04-30 23:47:00.6970000                2         4000.0    673861625  \n",
              "2  2017-04-30 23:46:39.9170000                1        14000.0    660764240  \n",
              "3  2017-04-30 23:46:13.5970000               64       168000.0    672658544  \n",
              "4  2017-04-30 23:46:02.1970000                1        33000.0    660764240  "
            ]
          },
          "execution_count": 207,
          "metadata": {},
          "output_type": "execute_result"
        }
      ],
      "source": [
        "df_view.head(5)"
      ]
    },
    {
      "cell_type": "code",
      "execution_count": 208,
      "metadata": {
        "colab": {
          "base_uri": "https://localhost:8080/"
        },
        "id": "TqZnhUlDLu4s",
        "outputId": "06860fba-fec4-4797-d848-ea4f7f5310dc"
      },
      "outputs": [
        {
          "name": "stdout",
          "output_type": "stream",
          "text": [
            "<class 'pandas.core.frame.DataFrame'>\n",
            "RangeIndex: 279213 entries, 0 to 279212\n",
            "Data columns (total 6 columns):\n",
            " #   Column           Non-Null Count   Dtype  \n",
            "---  ------           --------------   -----  \n",
            " 0   id               279213 non-null  int64  \n",
            " 1   userId           279213 non-null  object \n",
            " 2   dateCreated      279213 non-null  object \n",
            " 3   page_turn_count  279213 non-null  int64  \n",
            " 4   view_duration    269602 non-null  float64\n",
            " 5   brochure_id      279213 non-null  int64  \n",
            "dtypes: float64(1), int64(3), object(2)\n",
            "memory usage: 12.8+ MB\n"
          ]
        }
      ],
      "source": [
        "df_view.info()"
      ]
    },
    {
      "cell_type": "code",
      "execution_count": 209,
      "metadata": {
        "id": "5pCasV23Lu4t"
      },
      "outputs": [],
      "source": [
        "# Fixing data types\n",
        "df_view['dateCreated'] = pd.to_datetime(df_view['dateCreated'], format='%Y-%m-%d %H:%M:%S.%f').dt.normalize() # truncating to date\n",
        "df_view = df_view.convert_dtypes()\n",
        "\n",
        "df_view_target['dateCreated'] = pd.to_datetime(df_view_target['dateCreated'], format='%Y-%m-%d %H:%M:%S.%f').dt.normalize() # truncating to date\n",
        "df_view_target = df_view_target.convert_dtypes()"
      ]
    },
    {
      "cell_type": "code",
      "execution_count": 210,
      "metadata": {
        "colab": {
          "base_uri": "https://localhost:8080/"
        },
        "id": "t-DUwFEcLu4t",
        "outputId": "fe9f7eeb-dd9a-427e-faa5-4eb28491ff87"
      },
      "outputs": [
        {
          "name": "stdout",
          "output_type": "stream",
          "text": [
            "<class 'pandas.core.frame.DataFrame'>\n",
            "RangeIndex: 279213 entries, 0 to 279212\n",
            "Data columns (total 6 columns):\n",
            " #   Column           Non-Null Count   Dtype         \n",
            "---  ------           --------------   -----         \n",
            " 0   id               279213 non-null  Int64         \n",
            " 1   userId           279213 non-null  string        \n",
            " 2   dateCreated      279213 non-null  datetime64[ns]\n",
            " 3   page_turn_count  279213 non-null  Int64         \n",
            " 4   view_duration    269602 non-null  Int64         \n",
            " 5   brochure_id      279213 non-null  Int64         \n",
            "dtypes: Int64(4), datetime64[ns](1), string(1)\n",
            "memory usage: 13.8 MB\n"
          ]
        }
      ],
      "source": [
        "df_view.info()"
      ]
    },
    {
      "cell_type": "code",
      "execution_count": 211,
      "metadata": {
        "colab": {
          "base_uri": "https://localhost:8080/",
          "height": 206
        },
        "id": "hZCzGaFQLu4u",
        "outputId": "6f2e0313-4551-40aa-f1f3-f392e0e44011"
      },
      "outputs": [
        {
          "data": {
            "text/html": [
              "<div>\n",
              "<style scoped>\n",
              "    .dataframe tbody tr th:only-of-type {\n",
              "        vertical-align: middle;\n",
              "    }\n",
              "\n",
              "    .dataframe tbody tr th {\n",
              "        vertical-align: top;\n",
              "    }\n",
              "\n",
              "    .dataframe thead th {\n",
              "        text-align: right;\n",
              "    }\n",
              "</style>\n",
              "<table border=\"1\" class=\"dataframe\">\n",
              "  <thead>\n",
              "    <tr style=\"text-align: right;\">\n",
              "      <th></th>\n",
              "      <th>dateCreated</th>\n",
              "      <th>userId</th>\n",
              "    </tr>\n",
              "  </thead>\n",
              "  <tbody>\n",
              "    <tr>\n",
              "      <th>0</th>\n",
              "      <td>2017-06-30 14:14:54.7930000</td>\n",
              "      <td>50e72534-a4f4-40d7-96d5-ecbe4eb314e9</td>\n",
              "    </tr>\n",
              "    <tr>\n",
              "      <th>1</th>\n",
              "      <td>2017-06-30 14:03:13.0100000</td>\n",
              "      <td>b3712849-595e-403f-84d2-4698439056b0</td>\n",
              "    </tr>\n",
              "    <tr>\n",
              "      <th>2</th>\n",
              "      <td>2017-06-28 16:26:48.3830000</td>\n",
              "      <td>99cea50b-3ecf-4102-8290-997eaf32a6b6</td>\n",
              "    </tr>\n",
              "    <tr>\n",
              "      <th>3</th>\n",
              "      <td>2017-06-27 10:23:29.9430000</td>\n",
              "      <td>78c06433-9ea8-4835-aff5-f64b262d0fb4</td>\n",
              "    </tr>\n",
              "    <tr>\n",
              "      <th>4</th>\n",
              "      <td>2017-06-27 10:11:27.6340000</td>\n",
              "      <td>510c5f9e-de54-45ee-909c-c14103130e5e</td>\n",
              "    </tr>\n",
              "  </tbody>\n",
              "</table>\n",
              "</div>"
            ],
            "text/plain": [
              "                   dateCreated                                userId\n",
              "0  2017-06-30 14:14:54.7930000  50e72534-a4f4-40d7-96d5-ecbe4eb314e9\n",
              "1  2017-06-30 14:03:13.0100000  b3712849-595e-403f-84d2-4698439056b0\n",
              "2  2017-06-28 16:26:48.3830000  99cea50b-3ecf-4102-8290-997eaf32a6b6\n",
              "3  2017-06-27 10:23:29.9430000  78c06433-9ea8-4835-aff5-f64b262d0fb4\n",
              "4  2017-06-27 10:11:27.6340000  510c5f9e-de54-45ee-909c-c14103130e5e"
            ]
          },
          "execution_count": 211,
          "metadata": {},
          "output_type": "execute_result"
        }
      ],
      "source": [
        "df_start.head(5)"
      ]
    },
    {
      "cell_type": "code",
      "execution_count": 212,
      "metadata": {
        "id": "2fZe1zCgLu4u"
      },
      "outputs": [],
      "source": [
        "# Fixing Data Types\n",
        "df_start['dateCreated'] = pd.to_datetime(df_start['dateCreated'], format='%Y-%m-%d %H:%M:%S.%f').dt.normalize() # truncating to date\n",
        "df_start = df_start.convert_dtypes() # fixing data types\n",
        "df_start_target['dateCreated'] = pd.to_datetime(df_start_target['dateCreated'], format='%Y-%m-%d %H:%M:%S.%f').dt.normalize() # truncating to date\n",
        "df_start_target = df_start_target.convert_dtypes() # fixing data types"
      ]
    },
    {
      "cell_type": "code",
      "execution_count": 213,
      "metadata": {},
      "outputs": [
        {
          "name": "stdout",
          "output_type": "stream",
          "text": [
            "<class 'pandas.core.frame.DataFrame'>\n",
            "RangeIndex: 144104 entries, 0 to 144103\n",
            "Data columns (total 2 columns):\n",
            " #   Column       Non-Null Count   Dtype         \n",
            "---  ------       --------------   -----         \n",
            " 0   dateCreated  144104 non-null  datetime64[ns]\n",
            " 1   userId       144104 non-null  string        \n",
            "dtypes: datetime64[ns](1), string(1)\n",
            "memory usage: 2.2 MB\n"
          ]
        }
      ],
      "source": [
        "df_start.info()"
      ]
    },
    {
      "cell_type": "markdown",
      "metadata": {
        "id": "GRY4j3_RLu4v"
      },
      "source": [
        "# Data Modeling"
      ]
    },
    {
      "cell_type": "markdown",
      "metadata": {
        "id": "H5HXz9xaRE7A"
      },
      "source": [
        "Calculating Features in Event Window"
      ]
    },
    {
      "cell_type": "code",
      "execution_count": 214,
      "metadata": {
        "id": "BJebqiYojOFV"
      },
      "outputs": [],
      "source": [
        "# Number of Active users at the begining of interval\n",
        "# Number of users lost\n",
        "# churn rate\n",
        "# Cohort Analysis\n",
        "# Event --- cut_off date -- Performance Window"
      ]
    },
    {
      "cell_type": "markdown",
      "metadata": {
        "id": "2uTrR2hRoRqA"
      },
      "source": [
        "We have two approaches to choose from. The first, simpler approach involves aggregating user data and deriving relevant features without considering time dependency or event sequence. We can then use this data model to train our churn prediction model, capturing the event sequence using appropriate features.\n",
        "\n",
        "The second approach focuses on utilizing the event sequence of each customer as our data model. By employing time series-related models, we can predict churn by analyzing the chronological order of events."
      ]
    },
    {
      "cell_type": "code",
      "execution_count": 215,
      "metadata": {
        "id": "4SmlfuM7svBD"
      },
      "outputs": [],
      "source": [
        "# history_window_start= min([df_feature['InstallDate'].min(), df_feature['dateCreated'].min()]).date()\n",
        "# history_window_end= max([df_feature['InstallDate'].max(), df_feature['dateCreated'].max()]).date()\n",
        "history_window_start = pd.to_datetime('2017-04-01', format='%Y-%m-%d')\n",
        "history_window_end = pd.to_datetime('2017-06-01', format='%Y-%m-%d')\n",
        "prediction_window_start = pd.to_datetime('2017-07-01', format='%Y-%m-%d')\n",
        "install_end_date = history_window_end - DateOffset(months=1)"
      ]
    },
    {
      "cell_type": "code",
      "execution_count": 216,
      "metadata": {
        "id": "_uvumNaMsuH1"
      },
      "outputs": [],
      "source": [
        "# filter users who have not enough activity\n",
        "df_install = df_install.loc[df_install['InstallDate'] < install_end_date]\n",
        "# Installs has no duplicates, no need to aggragate"
      ]
    },
    {
      "cell_type": "code",
      "execution_count": 217,
      "metadata": {},
      "outputs": [],
      "source": [
        "# Calculating average days between starts, to have app openning frequency\n",
        "df_start = df_start.sort_values(['userId','dateCreated'])\n",
        "\n",
        "df_ = df_start.groupby('userId').apply(\n",
        "    lambda df: (df.dateCreated - df.dateCreated.shift(1)).dt.days).reset_index()\n",
        "\n",
        "df_ = df_.rename(columns={'dateCreated': 'time_between_starts'})\n",
        "df_.index = df_.level_1\n",
        "# pd.merge(df_start, df_, left_on='userId', right_on='userId', how='left' , validate='one_to_one')\n",
        "df_start = df_start.join(df_['time_between_starts'])\n",
        "\n",
        "# Aggregating Starts Events based on users\n",
        "df_starts_agg = df_start.groupby('userId').agg(\n",
        "    first_start = pd.NamedAgg(column='dateCreated', aggfunc='min'),\n",
        "    last_start = pd.NamedAgg(column='dateCreated', aggfunc='max'),\n",
        "    avg_starting_frequency = pd.NamedAgg(column='time_between_starts', aggfunc='mean'),\n",
        "    ).reset_index()\n",
        "\n",
        "df_ = df_start.copy(deep=True)\n",
        "df_ = df_.assign(count=1).groupby(['userId', pd.Grouper(key='dateCreated', freq='W')])['count'].sum().reset_index()\n",
        "df_ = df_.groupby('userId').agg(avg_weekly_starts = pd.NamedAgg(column='count', aggfunc='mean'))\n",
        "df_starts_agg= pd.merge(df_starts_agg, df_, left_on='userId', right_on='userId', how='left' , validate='one_to_one')"
      ]
    },
    {
      "cell_type": "code",
      "execution_count": 218,
      "metadata": {},
      "outputs": [
        {
          "data": {
            "text/html": [
              "<div>\n",
              "<style scoped>\n",
              "    .dataframe tbody tr th:only-of-type {\n",
              "        vertical-align: middle;\n",
              "    }\n",
              "\n",
              "    .dataframe tbody tr th {\n",
              "        vertical-align: top;\n",
              "    }\n",
              "\n",
              "    .dataframe thead th {\n",
              "        text-align: right;\n",
              "    }\n",
              "</style>\n",
              "<table border=\"1\" class=\"dataframe\">\n",
              "  <thead>\n",
              "    <tr style=\"text-align: right;\">\n",
              "      <th></th>\n",
              "      <th>userId</th>\n",
              "      <th>first_start</th>\n",
              "      <th>last_start</th>\n",
              "      <th>avg_starting_frequency</th>\n",
              "      <th>avg_weekly_starts</th>\n",
              "    </tr>\n",
              "  </thead>\n",
              "  <tbody>\n",
              "    <tr>\n",
              "      <th>0</th>\n",
              "      <td>0000bb01-a52b-4b4c-a0dd-8ef80f0a810c</td>\n",
              "      <td>2017-05-08</td>\n",
              "      <td>2017-05-08</td>\n",
              "      <td>NaN</td>\n",
              "      <td>1.0</td>\n",
              "    </tr>\n",
              "    <tr>\n",
              "      <th>1</th>\n",
              "      <td>0002c218-d30f-402e-ae08-1280ad4fb669</td>\n",
              "      <td>2017-04-24</td>\n",
              "      <td>2017-04-29</td>\n",
              "      <td>0.625000</td>\n",
              "      <td>9.0</td>\n",
              "    </tr>\n",
              "    <tr>\n",
              "      <th>2</th>\n",
              "      <td>000691c6-4289-47f8-81f1-628e52ed5429</td>\n",
              "      <td>2017-04-25</td>\n",
              "      <td>2017-04-25</td>\n",
              "      <td>NaN</td>\n",
              "      <td>1.0</td>\n",
              "    </tr>\n",
              "    <tr>\n",
              "      <th>3</th>\n",
              "      <td>00095350-9e64-4b34-9112-b9869703248b</td>\n",
              "      <td>2017-04-07</td>\n",
              "      <td>2017-04-08</td>\n",
              "      <td>1.000000</td>\n",
              "      <td>2.0</td>\n",
              "    </tr>\n",
              "    <tr>\n",
              "      <th>4</th>\n",
              "      <td>00095653-80f8-4fba-93d9-44ae70bb6263</td>\n",
              "      <td>2017-05-09</td>\n",
              "      <td>2017-06-21</td>\n",
              "      <td>14.333333</td>\n",
              "      <td>1.0</td>\n",
              "    </tr>\n",
              "  </tbody>\n",
              "</table>\n",
              "</div>"
            ],
            "text/plain": [
              "                                 userId first_start last_start  \\\n",
              "0  0000bb01-a52b-4b4c-a0dd-8ef80f0a810c  2017-05-08 2017-05-08   \n",
              "1  0002c218-d30f-402e-ae08-1280ad4fb669  2017-04-24 2017-04-29   \n",
              "2  000691c6-4289-47f8-81f1-628e52ed5429  2017-04-25 2017-04-25   \n",
              "3  00095350-9e64-4b34-9112-b9869703248b  2017-04-07 2017-04-08   \n",
              "4  00095653-80f8-4fba-93d9-44ae70bb6263  2017-05-09 2017-06-21   \n",
              "\n",
              "   avg_starting_frequency  avg_weekly_starts  \n",
              "0                     NaN                1.0  \n",
              "1                0.625000                9.0  \n",
              "2                     NaN                1.0  \n",
              "3                1.000000                2.0  \n",
              "4               14.333333                1.0  "
            ]
          },
          "execution_count": 218,
          "metadata": {},
          "output_type": "execute_result"
        }
      ],
      "source": [
        "df_starts_agg.head()"
      ]
    },
    {
      "cell_type": "code",
      "execution_count": 222,
      "metadata": {
        "id": "zFElVf5uflT9"
      },
      "outputs": [],
      "source": [
        "# Concatenating starts and views events to have all activities of users in one place in order to use it in feature engineering\n",
        "df_start_ = df_start.copy()\n",
        "df_view_ = df_view.copy()\n",
        "df_start_ ['event_type'] = 'start'\n",
        "df_view_ ['event_type'] = 'view'\n",
        "df_event = pd.concat([df_start_.assign(count=1), df_view_.assign(count=1)[['dateCreated','userId']]],axis=0, ignore_index= True)\n",
        "df_event= df_event.groupby(['userId', 'event_type', pd.Grouper(key='dateCreated', freq='d')])['count'].sum().reset_index().drop('count',axis=1) # daily aggregation"
      ]
    },
    {
      "cell_type": "code",
      "execution_count": 223,
      "metadata": {},
      "outputs": [],
      "source": [
        "# Aggregating events \n",
        "df_event_agg = df_event.groupby('userId').agg(\n",
        "    first_event = pd.NamedAgg(column='dateCreated', aggfunc='min'),\n",
        "    last_event = pd.NamedAgg(column='dateCreated', aggfunc='max'),\n",
        "    ).reset_index()"
      ]
    },
    {
      "cell_type": "code",
      "execution_count": 224,
      "metadata": {},
      "outputs": [],
      "source": [
        "df_ = df_event.copy(deep=True)\n",
        "df_ = df_.assign(count=1).groupby(['userId', pd.Grouper(key='dateCreated', freq='W')])['count'].sum().reset_index()\n",
        "df_ = df_.groupby('userId').agg(avg_weekly_active_days = pd.NamedAgg(column='count', aggfunc='mean'))\n",
        "\n",
        "# merge the calculated metric back to the dataframe\n",
        "df_event_agg = pd.merge(df_event_agg, df_, left_on='userId', right_on='userId', how='left' , validate='one_to_one') # validating there is no duplicate"
      ]
    },
    {
      "cell_type": "code",
      "execution_count": 225,
      "metadata": {},
      "outputs": [],
      "source": [
        "#Calculating average time between events for each user - if user has one event this value would be null\n",
        "df_ = df_event[['userId','dateCreated']].copy(deep=True)\n",
        "df_ = df_.drop_duplicates()\n",
        "df_ = df_.sort_values(['userId','dateCreated'])\n",
        "df_ = df_.groupby('userId').apply(\n",
        "    lambda df: (df.dateCreated - df.dateCreated.shift(1)).dt.days).reset_index()\n",
        "\n",
        "df_ = df_.rename(columns={'dateCreated': 'time_between_events'})\n",
        "df_.index = df_.level_1\n",
        "df_ = df_.groupby('userId').agg( avg_activity_frequency = pd.NamedAgg(column='time_between_events', aggfunc='mean'))\n",
        "\n",
        "# merge the calculated metric back to the dataframe\n",
        "df_event_agg = pd.merge(df_event_agg, df_, left_on='userId', right_on='userId', how='left' , validate='one_to_one') # validating there is no duplicate"
      ]
    },
    {
      "cell_type": "code",
      "execution_count": 226,
      "metadata": {},
      "outputs": [
        {
          "data": {
            "text/html": [
              "<div>\n",
              "<style scoped>\n",
              "    .dataframe tbody tr th:only-of-type {\n",
              "        vertical-align: middle;\n",
              "    }\n",
              "\n",
              "    .dataframe tbody tr th {\n",
              "        vertical-align: top;\n",
              "    }\n",
              "\n",
              "    .dataframe thead th {\n",
              "        text-align: right;\n",
              "    }\n",
              "</style>\n",
              "<table border=\"1\" class=\"dataframe\">\n",
              "  <thead>\n",
              "    <tr style=\"text-align: right;\">\n",
              "      <th></th>\n",
              "      <th>userId</th>\n",
              "      <th>first_event</th>\n",
              "      <th>last_event</th>\n",
              "      <th>avg_weekly_active_days</th>\n",
              "      <th>avg_activity_frequency</th>\n",
              "    </tr>\n",
              "  </thead>\n",
              "  <tbody>\n",
              "    <tr>\n",
              "      <th>0</th>\n",
              "      <td>0000bb01-a52b-4b4c-a0dd-8ef80f0a810c</td>\n",
              "      <td>2017-05-08</td>\n",
              "      <td>2017-05-08</td>\n",
              "      <td>1.0</td>\n",
              "      <td>NaN</td>\n",
              "    </tr>\n",
              "    <tr>\n",
              "      <th>1</th>\n",
              "      <td>0002c218-d30f-402e-ae08-1280ad4fb669</td>\n",
              "      <td>2017-04-24</td>\n",
              "      <td>2017-04-29</td>\n",
              "      <td>5.0</td>\n",
              "      <td>1.250000</td>\n",
              "    </tr>\n",
              "    <tr>\n",
              "      <th>2</th>\n",
              "      <td>000691c6-4289-47f8-81f1-628e52ed5429</td>\n",
              "      <td>2017-04-25</td>\n",
              "      <td>2017-04-25</td>\n",
              "      <td>1.0</td>\n",
              "      <td>NaN</td>\n",
              "    </tr>\n",
              "    <tr>\n",
              "      <th>3</th>\n",
              "      <td>00095350-9e64-4b34-9112-b9869703248b</td>\n",
              "      <td>2017-04-07</td>\n",
              "      <td>2017-04-08</td>\n",
              "      <td>2.0</td>\n",
              "      <td>1.000000</td>\n",
              "    </tr>\n",
              "    <tr>\n",
              "      <th>4</th>\n",
              "      <td>00095653-80f8-4fba-93d9-44ae70bb6263</td>\n",
              "      <td>2017-05-09</td>\n",
              "      <td>2017-06-21</td>\n",
              "      <td>1.0</td>\n",
              "      <td>14.333333</td>\n",
              "    </tr>\n",
              "  </tbody>\n",
              "</table>\n",
              "</div>"
            ],
            "text/plain": [
              "                                 userId first_event last_event  \\\n",
              "0  0000bb01-a52b-4b4c-a0dd-8ef80f0a810c  2017-05-08 2017-05-08   \n",
              "1  0002c218-d30f-402e-ae08-1280ad4fb669  2017-04-24 2017-04-29   \n",
              "2  000691c6-4289-47f8-81f1-628e52ed5429  2017-04-25 2017-04-25   \n",
              "3  00095350-9e64-4b34-9112-b9869703248b  2017-04-07 2017-04-08   \n",
              "4  00095653-80f8-4fba-93d9-44ae70bb6263  2017-05-09 2017-06-21   \n",
              "\n",
              "   avg_weekly_active_days  avg_activity_frequency  \n",
              "0                     1.0                     NaN  \n",
              "1                     5.0                1.250000  \n",
              "2                     1.0                     NaN  \n",
              "3                     2.0                1.000000  \n",
              "4                     1.0               14.333333  "
            ]
          },
          "execution_count": 226,
          "metadata": {},
          "output_type": "execute_result"
        }
      ],
      "source": [
        "df_event_agg.head()"
      ]
    },
    {
      "cell_type": "code",
      "execution_count": 229,
      "metadata": {
        "id": "8tMZsPAj5JeE"
      },
      "outputs": [],
      "source": [
        "df_view_agg = df_view.groupby('userId').agg(\n",
        "    last_view = pd.NamedAgg(column='dateCreated', aggfunc='max'),\n",
        "    first_view = pd.NamedAgg(column='dateCreated',aggfunc='min'),\n",
        "    med_page_turn = pd.NamedAgg(column='page_turn_count', aggfunc='median'),\n",
        "    avg_view_duration = pd.NamedAgg(column='view_duration', aggfunc='mean')\n",
        "    ).reset_index()\n",
        "\n",
        "df_ = df_view.copy(deep=True)\n",
        "df_ = df_.groupby(['userId', pd.Grouper(key='dateCreated', freq='W')])['brochure_id'].size().reset_index()\n",
        "df_ = df_.groupby('userId').agg(avg_weekly_views = pd.NamedAgg(column='brochure_id', aggfunc='mean'))\n",
        "\n",
        "df_view_agg= pd.merge(df_view_agg, df_, left_on='userId', right_on='userId', how='left' , validate='one_to_one')"
      ]
    },
    {
      "cell_type": "code",
      "execution_count": 230,
      "metadata": {},
      "outputs": [
        {
          "data": {
            "text/html": [
              "<div>\n",
              "<style scoped>\n",
              "    .dataframe tbody tr th:only-of-type {\n",
              "        vertical-align: middle;\n",
              "    }\n",
              "\n",
              "    .dataframe tbody tr th {\n",
              "        vertical-align: top;\n",
              "    }\n",
              "\n",
              "    .dataframe thead th {\n",
              "        text-align: right;\n",
              "    }\n",
              "</style>\n",
              "<table border=\"1\" class=\"dataframe\">\n",
              "  <thead>\n",
              "    <tr style=\"text-align: right;\">\n",
              "      <th></th>\n",
              "      <th>userId</th>\n",
              "      <th>last_view</th>\n",
              "      <th>first_view</th>\n",
              "      <th>med_page_turn</th>\n",
              "      <th>avg_view_duration</th>\n",
              "      <th>avg_weekly_views</th>\n",
              "    </tr>\n",
              "  </thead>\n",
              "  <tbody>\n",
              "    <tr>\n",
              "      <th>0</th>\n",
              "      <td>0002C218-D30F-402E-AE08-1280AD4FB669</td>\n",
              "      <td>2017-04-29</td>\n",
              "      <td>2017-04-24</td>\n",
              "      <td>10.0</td>\n",
              "      <td>51789.473684</td>\n",
              "      <td>19.000000</td>\n",
              "    </tr>\n",
              "    <tr>\n",
              "      <th>1</th>\n",
              "      <td>00095350-9e64-4b34-9112-b9869703248b</td>\n",
              "      <td>2017-04-08</td>\n",
              "      <td>2017-04-07</td>\n",
              "      <td>20.0</td>\n",
              "      <td>70863.0</td>\n",
              "      <td>5.000000</td>\n",
              "    </tr>\n",
              "    <tr>\n",
              "      <th>2</th>\n",
              "      <td>00095653-80f8-4fba-93d9-44ae70bb6263</td>\n",
              "      <td>2017-06-18</td>\n",
              "      <td>2017-05-09</td>\n",
              "      <td>4.0</td>\n",
              "      <td>35500.0</td>\n",
              "      <td>1.333333</td>\n",
              "    </tr>\n",
              "    <tr>\n",
              "      <th>3</th>\n",
              "      <td>0010E3BE-81BD-48A3-8282-8C8D0B1F9629</td>\n",
              "      <td>2017-06-30</td>\n",
              "      <td>2017-04-18</td>\n",
              "      <td>8.0</td>\n",
              "      <td>67338.9425</td>\n",
              "      <td>37.454545</td>\n",
              "    </tr>\n",
              "    <tr>\n",
              "      <th>4</th>\n",
              "      <td>0015a4a8-99f1-4119-9e10-0ac9773ae48a</td>\n",
              "      <td>2017-05-08</td>\n",
              "      <td>2017-05-08</td>\n",
              "      <td>2.0</td>\n",
              "      <td>69000.0</td>\n",
              "      <td>3.000000</td>\n",
              "    </tr>\n",
              "  </tbody>\n",
              "</table>\n",
              "</div>"
            ],
            "text/plain": [
              "                                 userId  last_view first_view  med_page_turn  \\\n",
              "0  0002C218-D30F-402E-AE08-1280AD4FB669 2017-04-29 2017-04-24           10.0   \n",
              "1  00095350-9e64-4b34-9112-b9869703248b 2017-04-08 2017-04-07           20.0   \n",
              "2  00095653-80f8-4fba-93d9-44ae70bb6263 2017-06-18 2017-05-09            4.0   \n",
              "3  0010E3BE-81BD-48A3-8282-8C8D0B1F9629 2017-06-30 2017-04-18            8.0   \n",
              "4  0015a4a8-99f1-4119-9e10-0ac9773ae48a 2017-05-08 2017-05-08            2.0   \n",
              "\n",
              "   avg_view_duration  avg_weekly_views  \n",
              "0       51789.473684         19.000000  \n",
              "1            70863.0          5.000000  \n",
              "2            35500.0          1.333333  \n",
              "3         67338.9425         37.454545  \n",
              "4            69000.0          3.000000  "
            ]
          },
          "execution_count": 230,
          "metadata": {},
          "output_type": "execute_result"
        }
      ],
      "source": [
        "df_view_agg.head()"
      ]
    },
    {
      "cell_type": "code",
      "execution_count": 268,
      "metadata": {
        "id": "i9SxXdoNLu4v"
      },
      "outputs": [],
      "source": [
        "# Joining all data frames to have a unified table at user level\n",
        "df_tmp = pd.merge(df_install, df_starts_agg, left_on='userId', right_on='userId', how='left' , validate='one_to_one') # validating there is no duplicate\n",
        "df_tmp2 = pd.merge(df_tmp, df_event_agg, left_on='userId', right_on='userId', how='left', validate='one_to_one' ) # validating there is no duplicate\n",
        "df_feature = pd.merge(df_tmp2, df_view_agg, left_on='userId', right_on='userId', how='left' , validate='one_to_one') # validating there is no duplicates"
      ]
    },
    {
      "cell_type": "code",
      "execution_count": 269,
      "metadata": {
        "colab": {
          "base_uri": "https://localhost:8080/",
          "height": 320
        },
        "id": "JvBikiLNLu4w",
        "outputId": "6b24fbe6-1152-4151-c0b3-ba88afbbac2e"
      },
      "outputs": [
        {
          "data": {
            "text/html": [
              "<div>\n",
              "<style scoped>\n",
              "    .dataframe tbody tr th:only-of-type {\n",
              "        vertical-align: middle;\n",
              "    }\n",
              "\n",
              "    .dataframe tbody tr th {\n",
              "        vertical-align: top;\n",
              "    }\n",
              "\n",
              "    .dataframe thead th {\n",
              "        text-align: right;\n",
              "    }\n",
              "</style>\n",
              "<table border=\"1\" class=\"dataframe\">\n",
              "  <thead>\n",
              "    <tr style=\"text-align: right;\">\n",
              "      <th></th>\n",
              "      <th>id</th>\n",
              "      <th>InstallDate</th>\n",
              "      <th>productId</th>\n",
              "      <th>userId</th>\n",
              "      <th>model</th>\n",
              "      <th>campaignId</th>\n",
              "      <th>first_start</th>\n",
              "      <th>last_start</th>\n",
              "      <th>avg_starting_frequency</th>\n",
              "      <th>avg_weekly_starts</th>\n",
              "      <th>first_event</th>\n",
              "      <th>last_event</th>\n",
              "      <th>avg_weekly_active_days</th>\n",
              "      <th>avg_activity_frequency</th>\n",
              "      <th>last_view</th>\n",
              "      <th>first_view</th>\n",
              "      <th>med_page_turn</th>\n",
              "      <th>avg_view_duration</th>\n",
              "      <th>avg_weekly_views</th>\n",
              "    </tr>\n",
              "  </thead>\n",
              "  <tbody>\n",
              "    <tr>\n",
              "      <th>0</th>\n",
              "      <td>36979918</td>\n",
              "      <td>2017-04-24</td>\n",
              "      <td>com-bonial-kaufda</td>\n",
              "      <td>b13a035e-e9bf-49db-8f93-b49d491bef53</td>\n",
              "      <td>sm-g800f</td>\n",
              "      <td>3iikhy</td>\n",
              "      <td>2017-04-24</td>\n",
              "      <td>2017-05-18</td>\n",
              "      <td>12.000000</td>\n",
              "      <td>1.5</td>\n",
              "      <td>2017-04-24</td>\n",
              "      <td>2017-05-18</td>\n",
              "      <td>1.500000</td>\n",
              "      <td>12.0</td>\n",
              "      <td>NaT</td>\n",
              "      <td>NaT</td>\n",
              "      <td>&lt;NA&gt;</td>\n",
              "      <td>&lt;NA&gt;</td>\n",
              "      <td>NaN</td>\n",
              "    </tr>\n",
              "    <tr>\n",
              "      <th>1</th>\n",
              "      <td>36897929</td>\n",
              "      <td>2017-04-22</td>\n",
              "      <td>com-bonial-kaufda</td>\n",
              "      <td>64707e97-d5e1-4622-a89a-bebf8432fd33</td>\n",
              "      <td>sm-g955f</td>\n",
              "      <td>000000</td>\n",
              "      <td>2017-04-22</td>\n",
              "      <td>2017-06-26</td>\n",
              "      <td>4.642857</td>\n",
              "      <td>2.5</td>\n",
              "      <td>2017-04-22</td>\n",
              "      <td>2017-06-26</td>\n",
              "      <td>2.333333</td>\n",
              "      <td>5.0</td>\n",
              "      <td>2017-06-26</td>\n",
              "      <td>2017-04-23</td>\n",
              "      <td>25.0</td>\n",
              "      <td>51818.181818</td>\n",
              "      <td>2.2</td>\n",
              "    </tr>\n",
              "    <tr>\n",
              "      <th>2</th>\n",
              "      <td>36606053</td>\n",
              "      <td>2017-04-15</td>\n",
              "      <td>com-bonial-kaufda</td>\n",
              "      <td>770a391d-eda5-423b-b672-845f1e12661f</td>\n",
              "      <td>sm-j320h</td>\n",
              "      <td>000000</td>\n",
              "      <td>2017-04-15</td>\n",
              "      <td>2017-04-21</td>\n",
              "      <td>2.000000</td>\n",
              "      <td>2.0</td>\n",
              "      <td>2017-04-15</td>\n",
              "      <td>2017-04-21</td>\n",
              "      <td>2.000000</td>\n",
              "      <td>2.0</td>\n",
              "      <td>2017-04-21</td>\n",
              "      <td>2017-04-15</td>\n",
              "      <td>18.0</td>\n",
              "      <td>93333.333333</td>\n",
              "      <td>7.5</td>\n",
              "    </tr>\n",
              "  </tbody>\n",
              "</table>\n",
              "</div>"
            ],
            "text/plain": [
              "         id InstallDate          productId  \\\n",
              "0  36979918  2017-04-24  com-bonial-kaufda   \n",
              "1  36897929  2017-04-22  com-bonial-kaufda   \n",
              "2  36606053  2017-04-15  com-bonial-kaufda   \n",
              "\n",
              "                                 userId     model campaignId first_start  \\\n",
              "0  b13a035e-e9bf-49db-8f93-b49d491bef53  sm-g800f     3iikhy  2017-04-24   \n",
              "1  64707e97-d5e1-4622-a89a-bebf8432fd33  sm-g955f     000000  2017-04-22   \n",
              "2  770a391d-eda5-423b-b672-845f1e12661f  sm-j320h     000000  2017-04-15   \n",
              "\n",
              "  last_start  avg_starting_frequency  avg_weekly_starts first_event  \\\n",
              "0 2017-05-18               12.000000                1.5  2017-04-24   \n",
              "1 2017-06-26                4.642857                2.5  2017-04-22   \n",
              "2 2017-04-21                2.000000                2.0  2017-04-15   \n",
              "\n",
              "  last_event  avg_weekly_active_days  avg_activity_frequency  last_view  \\\n",
              "0 2017-05-18                1.500000                    12.0        NaT   \n",
              "1 2017-06-26                2.333333                     5.0 2017-06-26   \n",
              "2 2017-04-21                2.000000                     2.0 2017-04-21   \n",
              "\n",
              "  first_view  med_page_turn  avg_view_duration  avg_weekly_views  \n",
              "0        NaT           <NA>               <NA>               NaN  \n",
              "1 2017-04-23           25.0       51818.181818               2.2  \n",
              "2 2017-04-15           18.0       93333.333333               7.5  "
            ]
          },
          "execution_count": 269,
          "metadata": {},
          "output_type": "execute_result"
        }
      ],
      "source": [
        "df_feature.head(3)"
      ]
    },
    {
      "cell_type": "markdown",
      "metadata": {
        "id": "JWjGQaAp5oco"
      },
      "source": [
        "Adding more features to enrich the data model"
      ]
    },
    {
      "cell_type": "code",
      "execution_count": 270,
      "metadata": {
        "id": "I6McI401f_6s"
      },
      "outputs": [],
      "source": [
        "def calculate_day_diff(in_date, ref_date):\n",
        "    return (ref_date - in_date).days"
      ]
    },
    {
      "cell_type": "code",
      "execution_count": 271,
      "metadata": {
        "id": "lhK3grTw_lLF"
      },
      "outputs": [],
      "source": [
        "df_feature['tenure'] = df_feature['InstallDate'].apply(calculate_day_diff, args=(prediction_window_start,)) # client tenure at the start of prediction window\n",
        "df_feature['active_age'] = (df_feature['last_event'] - df_feature['first_event']).dt.days\n",
        "df_feature['recency'] = (df_feature['last_event'] - df_feature['InstallDate']).dt.days\n",
        "df_feature['has_event'] = df_feature['first_event'].notna().astype(int)\n",
        "df_feature['has_start'] = df_feature['first_start'].notna().astype(int)\n",
        "df_feature['has_view'] = df_feature['first_view'].notna().astype(int)"
      ]
    },
    {
      "cell_type": "markdown",
      "metadata": {
        "id": "pLj2unAP5zcu"
      },
      "source": [
        "Renaming columns to be consistent and easier to use"
      ]
    },
    {
      "cell_type": "code",
      "execution_count": 272,
      "metadata": {
        "colab": {
          "base_uri": "https://localhost:8080/"
        },
        "id": "zoIhtepW7srB",
        "outputId": "830db103-52a2-4677-fe00-5755eb02c1f6"
      },
      "outputs": [
        {
          "data": {
            "text/plain": [
              "Index(['id', 'InstallDate', 'productId', 'userId', 'model', 'campaignId',\n",
              "       'first_start', 'last_start', 'avg_starting_frequency',\n",
              "       'avg_weekly_starts', 'first_event', 'last_event',\n",
              "       'avg_weekly_active_days', 'avg_activity_frequency', 'last_view',\n",
              "       'first_view', 'med_page_turn', 'avg_view_duration', 'avg_weekly_views',\n",
              "       'tenure', 'active_age', 'recency', 'has_event', 'has_start',\n",
              "       'has_view'],\n",
              "      dtype='object')"
            ]
          },
          "execution_count": 272,
          "metadata": {},
          "output_type": "execute_result"
        }
      ],
      "source": [
        "df_feature.columns"
      ]
    },
    {
      "cell_type": "code",
      "execution_count": 273,
      "metadata": {
        "id": "z5reRTsu7eHZ"
      },
      "outputs": [],
      "source": [
        "df_feature.rename(columns={'InstallDate':'install_date',\n",
        "                           'productId':'product_id',\n",
        "                           'userId':'user_id',\n",
        "                           'campaignId':'campaign_id'}, inplace=True)"
      ]
    },
    {
      "cell_type": "code",
      "execution_count": 274,
      "metadata": {},
      "outputs": [],
      "source": [
        "df = df_feature.drop(['install_date','first_start','last_start','first_event','last_event','first_view','last_view', 'id'], axis=1)"
      ]
    },
    {
      "cell_type": "code",
      "execution_count": 277,
      "metadata": {},
      "outputs": [],
      "source": [
        "df = df[['avg_starting_frequency','avg_weekly_starts','avg_weekly_active_days','avg_activity_frequency','med_page_turn','avg_view_duration','avg_weekly_views','tenure','active_age','recency']].fillna(0)"
      ]
    },
    {
      "cell_type": "code",
      "execution_count": 278,
      "metadata": {},
      "outputs": [
        {
          "name": "stdout",
          "output_type": "stream",
          "text": [
            "<class 'pandas.core.frame.DataFrame'>\n",
            "RangeIndex: 9843 entries, 0 to 9842\n",
            "Data columns (total 10 columns):\n",
            " #   Column                  Non-Null Count  Dtype  \n",
            "---  ------                  --------------  -----  \n",
            " 0   avg_starting_frequency  9843 non-null   float64\n",
            " 1   avg_weekly_starts       9843 non-null   float64\n",
            " 2   avg_weekly_active_days  9843 non-null   float64\n",
            " 3   avg_activity_frequency  9843 non-null   float64\n",
            " 4   med_page_turn           9843 non-null   Float64\n",
            " 5   avg_view_duration       9843 non-null   Float64\n",
            " 6   avg_weekly_views        9843 non-null   float64\n",
            " 7   tenure                  9843 non-null   int64  \n",
            " 8   active_age              9843 non-null   float64\n",
            " 9   recency                 9843 non-null   float64\n",
            "dtypes: Float64(2), float64(7), int64(1)\n",
            "memory usage: 788.3 KB\n"
          ]
        }
      ],
      "source": [
        "df.info()"
      ]
    },
    {
      "cell_type": "code",
      "execution_count": 279,
      "metadata": {},
      "outputs": [
        {
          "data": {
            "text/html": [
              "<div>\n",
              "<style scoped>\n",
              "    .dataframe tbody tr th:only-of-type {\n",
              "        vertical-align: middle;\n",
              "    }\n",
              "\n",
              "    .dataframe tbody tr th {\n",
              "        vertical-align: top;\n",
              "    }\n",
              "\n",
              "    .dataframe thead th {\n",
              "        text-align: right;\n",
              "    }\n",
              "</style>\n",
              "<table border=\"1\" class=\"dataframe\">\n",
              "  <thead>\n",
              "    <tr style=\"text-align: right;\">\n",
              "      <th></th>\n",
              "      <th>avg_starting_frequency</th>\n",
              "      <th>avg_weekly_starts</th>\n",
              "      <th>avg_weekly_active_days</th>\n",
              "      <th>avg_activity_frequency</th>\n",
              "      <th>med_page_turn</th>\n",
              "      <th>avg_view_duration</th>\n",
              "      <th>avg_weekly_views</th>\n",
              "      <th>tenure</th>\n",
              "      <th>active_age</th>\n",
              "      <th>recency</th>\n",
              "    </tr>\n",
              "  </thead>\n",
              "  <tbody>\n",
              "    <tr>\n",
              "      <th>0</th>\n",
              "      <td>12.000000</td>\n",
              "      <td>1.5</td>\n",
              "      <td>1.500000</td>\n",
              "      <td>12.0</td>\n",
              "      <td>0.0</td>\n",
              "      <td>0.0</td>\n",
              "      <td>0.0</td>\n",
              "      <td>68</td>\n",
              "      <td>24.0</td>\n",
              "      <td>24.0</td>\n",
              "    </tr>\n",
              "    <tr>\n",
              "      <th>1</th>\n",
              "      <td>4.642857</td>\n",
              "      <td>2.5</td>\n",
              "      <td>2.333333</td>\n",
              "      <td>5.0</td>\n",
              "      <td>25.0</td>\n",
              "      <td>51818.181818</td>\n",
              "      <td>2.2</td>\n",
              "      <td>70</td>\n",
              "      <td>65.0</td>\n",
              "      <td>65.0</td>\n",
              "    </tr>\n",
              "    <tr>\n",
              "      <th>2</th>\n",
              "      <td>2.000000</td>\n",
              "      <td>2.0</td>\n",
              "      <td>2.000000</td>\n",
              "      <td>2.0</td>\n",
              "      <td>18.0</td>\n",
              "      <td>93333.333333</td>\n",
              "      <td>7.5</td>\n",
              "      <td>77</td>\n",
              "      <td>6.0</td>\n",
              "      <td>6.0</td>\n",
              "    </tr>\n",
              "    <tr>\n",
              "      <th>3</th>\n",
              "      <td>0.000000</td>\n",
              "      <td>1.0</td>\n",
              "      <td>1.000000</td>\n",
              "      <td>0.0</td>\n",
              "      <td>0.0</td>\n",
              "      <td>0.0</td>\n",
              "      <td>0.0</td>\n",
              "      <td>89</td>\n",
              "      <td>0.0</td>\n",
              "      <td>0.0</td>\n",
              "    </tr>\n",
              "    <tr>\n",
              "      <th>4</th>\n",
              "      <td>0.000000</td>\n",
              "      <td>1.0</td>\n",
              "      <td>1.000000</td>\n",
              "      <td>0.0</td>\n",
              "      <td>6.0</td>\n",
              "      <td>97428.571429</td>\n",
              "      <td>7.0</td>\n",
              "      <td>75</td>\n",
              "      <td>0.0</td>\n",
              "      <td>0.0</td>\n",
              "    </tr>\n",
              "  </tbody>\n",
              "</table>\n",
              "</div>"
            ],
            "text/plain": [
              "   avg_starting_frequency  avg_weekly_starts  avg_weekly_active_days  \\\n",
              "0               12.000000                1.5                1.500000   \n",
              "1                4.642857                2.5                2.333333   \n",
              "2                2.000000                2.0                2.000000   \n",
              "3                0.000000                1.0                1.000000   \n",
              "4                0.000000                1.0                1.000000   \n",
              "\n",
              "   avg_activity_frequency  med_page_turn  avg_view_duration  avg_weekly_views  \\\n",
              "0                    12.0            0.0                0.0               0.0   \n",
              "1                     5.0           25.0       51818.181818               2.2   \n",
              "2                     2.0           18.0       93333.333333               7.5   \n",
              "3                     0.0            0.0                0.0               0.0   \n",
              "4                     0.0            6.0       97428.571429               7.0   \n",
              "\n",
              "   tenure  active_age  recency  \n",
              "0      68        24.0     24.0  \n",
              "1      70        65.0     65.0  \n",
              "2      77         6.0      6.0  \n",
              "3      89         0.0      0.0  \n",
              "4      75         0.0      0.0  "
            ]
          },
          "execution_count": 279,
          "metadata": {},
          "output_type": "execute_result"
        }
      ],
      "source": [
        "df.head()"
      ]
    },
    {
      "cell_type": "code",
      "execution_count": 281,
      "metadata": {},
      "outputs": [],
      "source": [
        "# profile = ProfileReport(df, title=\"Profiling Report\")\n",
        "# profile"
      ]
    },
    {
      "cell_type": "code",
      "execution_count": 30,
      "metadata": {
        "colab": {
          "base_uri": "https://localhost:8080/",
          "height": 516
        },
        "id": "ivS6vJWIoO5B",
        "outputId": "fa17e1a3-c23d-4a67-d777-53b9f8f408e6"
      },
      "outputs": [
        {
          "data": {
            "text/html": [
              "<div>\n",
              "<style scoped>\n",
              "    .dataframe tbody tr th:only-of-type {\n",
              "        vertical-align: middle;\n",
              "    }\n",
              "\n",
              "    .dataframe tbody tr th {\n",
              "        vertical-align: top;\n",
              "    }\n",
              "\n",
              "    .dataframe thead th {\n",
              "        text-align: right;\n",
              "    }\n",
              "</style>\n",
              "<table border=\"1\" class=\"dataframe\">\n",
              "  <thead>\n",
              "    <tr style=\"text-align: right;\">\n",
              "      <th></th>\n",
              "      <th>id</th>\n",
              "      <th>install_date</th>\n",
              "      <th>product_id</th>\n",
              "      <th>user_id</th>\n",
              "      <th>model</th>\n",
              "      <th>campaign_id</th>\n",
              "      <th>first_start</th>\n",
              "      <th>last_start</th>\n",
              "      <th>start_count</th>\n",
              "      <th>first_event</th>\n",
              "      <th>...</th>\n",
              "      <th>last_view</th>\n",
              "      <th>first_view</th>\n",
              "      <th>view_count</th>\n",
              "      <th>avg_page_turn</th>\n",
              "      <th>avg_view_duration</th>\n",
              "      <th>tenure</th>\n",
              "      <th>recency</th>\n",
              "      <th>has_event</th>\n",
              "      <th>has_start</th>\n",
              "      <th>has_view</th>\n",
              "    </tr>\n",
              "  </thead>\n",
              "  <tbody>\n",
              "    <tr>\n",
              "      <th>1674</th>\n",
              "      <td>36077316</td>\n",
              "      <td>2017-04-03</td>\n",
              "      <td>com-bonial-kaufda</td>\n",
              "      <td>bfa8101b-eb62-4398-9445-112401e6253f</td>\n",
              "      <td>P00A</td>\n",
              "      <td>j6lo2z</td>\n",
              "      <td>2017-04-03</td>\n",
              "      <td>2017-04-03</td>\n",
              "      <td>1.0</td>\n",
              "      <td>2017-04-02</td>\n",
              "      <td>...</td>\n",
              "      <td>2017-04-02</td>\n",
              "      <td>2017-04-02</td>\n",
              "      <td>4.0</td>\n",
              "      <td>12.0</td>\n",
              "      <td>83750.0</td>\n",
              "      <td>89</td>\n",
              "      <td>0 days</td>\n",
              "      <td>1</td>\n",
              "      <td>1</td>\n",
              "      <td>1</td>\n",
              "    </tr>\n",
              "    <tr>\n",
              "      <th>4792</th>\n",
              "      <td>36953957</td>\n",
              "      <td>2017-04-22</td>\n",
              "      <td>de-kaufda-android</td>\n",
              "      <td>5c8ac6dc-1a7b-45fc-85d5-8e30d607c9ba</td>\n",
              "      <td>sm-j100h</td>\n",
              "      <td>000000</td>\n",
              "      <td>2017-04-20</td>\n",
              "      <td>2017-04-22</td>\n",
              "      <td>2.0</td>\n",
              "      <td>2017-04-20</td>\n",
              "      <td>...</td>\n",
              "      <td>NaT</td>\n",
              "      <td>NaT</td>\n",
              "      <td>NaN</td>\n",
              "      <td>&lt;NA&gt;</td>\n",
              "      <td>&lt;NA&gt;</td>\n",
              "      <td>70</td>\n",
              "      <td>0 days</td>\n",
              "      <td>1</td>\n",
              "      <td>1</td>\n",
              "      <td>0</td>\n",
              "    </tr>\n",
              "    <tr>\n",
              "      <th>5529</th>\n",
              "      <td>36444559</td>\n",
              "      <td>2017-04-10</td>\n",
              "      <td>de-kaufda-android</td>\n",
              "      <td>ffcbe54b-66a0-4cd7-ae7a-967d9e21e8a9</td>\n",
              "      <td>gt-i9300</td>\n",
              "      <td>000000</td>\n",
              "      <td>2017-04-02</td>\n",
              "      <td>2017-04-10</td>\n",
              "      <td>3.0</td>\n",
              "      <td>2017-04-02</td>\n",
              "      <td>...</td>\n",
              "      <td>2017-04-10</td>\n",
              "      <td>2017-04-10</td>\n",
              "      <td>1.0</td>\n",
              "      <td>1.0</td>\n",
              "      <td>&lt;NA&gt;</td>\n",
              "      <td>82</td>\n",
              "      <td>0 days</td>\n",
              "      <td>1</td>\n",
              "      <td>1</td>\n",
              "      <td>1</td>\n",
              "    </tr>\n",
              "    <tr>\n",
              "      <th>6436</th>\n",
              "      <td>37062598</td>\n",
              "      <td>2017-04-26</td>\n",
              "      <td>de-kaufda-android</td>\n",
              "      <td>6bbfe19f-a1c6-48b2-8221-76856a22c57e</td>\n",
              "      <td>sm-t116</td>\n",
              "      <td>000000</td>\n",
              "      <td>2017-04-22</td>\n",
              "      <td>2017-04-26</td>\n",
              "      <td>2.0</td>\n",
              "      <td>2017-04-22</td>\n",
              "      <td>...</td>\n",
              "      <td>NaT</td>\n",
              "      <td>NaT</td>\n",
              "      <td>NaN</td>\n",
              "      <td>&lt;NA&gt;</td>\n",
              "      <td>&lt;NA&gt;</td>\n",
              "      <td>66</td>\n",
              "      <td>0 days</td>\n",
              "      <td>1</td>\n",
              "      <td>1</td>\n",
              "      <td>0</td>\n",
              "    </tr>\n",
              "  </tbody>\n",
              "</table>\n",
              "<p>4 rows × 22 columns</p>\n",
              "</div>"
            ],
            "text/plain": [
              "            id install_date         product_id  \\\n",
              "1674  36077316   2017-04-03  com-bonial-kaufda   \n",
              "4792  36953957   2017-04-22  de-kaufda-android   \n",
              "5529  36444559   2017-04-10  de-kaufda-android   \n",
              "6436  37062598   2017-04-26  de-kaufda-android   \n",
              "\n",
              "                                   user_id     model campaign_id first_start  \\\n",
              "1674  bfa8101b-eb62-4398-9445-112401e6253f      P00A      j6lo2z  2017-04-03   \n",
              "4792  5c8ac6dc-1a7b-45fc-85d5-8e30d607c9ba  sm-j100h      000000  2017-04-20   \n",
              "5529  ffcbe54b-66a0-4cd7-ae7a-967d9e21e8a9  gt-i9300      000000  2017-04-02   \n",
              "6436  6bbfe19f-a1c6-48b2-8221-76856a22c57e   sm-t116      000000  2017-04-22   \n",
              "\n",
              "     last_start  start_count first_event  ...  last_view  first_view  \\\n",
              "1674 2017-04-03          1.0  2017-04-02  ... 2017-04-02  2017-04-02   \n",
              "4792 2017-04-22          2.0  2017-04-20  ...        NaT         NaT   \n",
              "5529 2017-04-10          3.0  2017-04-02  ... 2017-04-10  2017-04-10   \n",
              "6436 2017-04-26          2.0  2017-04-22  ...        NaT         NaT   \n",
              "\n",
              "     view_count avg_page_turn  avg_view_duration  tenure  recency  has_event  \\\n",
              "1674        4.0          12.0            83750.0      89   0 days          1   \n",
              "4792        NaN          <NA>               <NA>      70   0 days          1   \n",
              "5529        1.0           1.0               <NA>      82   0 days          1   \n",
              "6436        NaN          <NA>               <NA>      66   0 days          1   \n",
              "\n",
              "     has_start  has_view  \n",
              "1674         1         1  \n",
              "4792         1         0  \n",
              "5529         1         1  \n",
              "6436         1         0  \n",
              "\n",
              "[4 rows x 22 columns]"
            ]
          },
          "execution_count": 30,
          "metadata": {},
          "output_type": "execute_result"
        }
      ],
      "source": [
        "# check error\n",
        "df_feature[df_feature['install_date']> df_feature['first_event']]\n",
        "\n",
        "df_test = df.loc[(df['has_view']==1) & (df['has_start']==1) ]"
      ]
    },
    {
      "cell_type": "markdown",
      "metadata": {
        "id": "604fw6wL_RL9"
      },
      "source": [
        "Note: How many user viewed or start the app after install?"
      ]
    },
    {
      "cell_type": "code",
      "execution_count": 31,
      "metadata": {
        "colab": {
          "base_uri": "https://localhost:8080/",
          "height": 507
        },
        "id": "h7E1eAl4CuHa",
        "outputId": "4bb1d615-e004-40eb-dbb7-76cdced2c8fc"
      },
      "outputs": [
        {
          "data": {
            "text/plain": [
              "<Axes: xlabel='step'>"
            ]
          },
          "execution_count": 31,
          "metadata": {},
          "output_type": "execute_result"
        },
        {
          "data": {
            "image/png": "[encoded data removed]",
            "text/plain": [
              "<Figure size 640x480 with 1 Axes>"
            ]
          },
          "metadata": {},
          "output_type": "display_data"
        }
      ],
      "source": [
        "# Visualizing customer drops in different steps\n",
        "data_viz = [['insalled', df_feature.user_id.size], ['started', df_feature.has_start.sum()], ['viewed', df_feature.has_view.sum()]]\n",
        "\n",
        "df_viz = pd.DataFrame(data_viz, columns=['step', 'count'])\n",
        "df_viz.plot.bar(x='step',y='count')"
      ]
    },
    {
      "cell_type": "markdown",
      "metadata": {
        "id": "dl0MwQwlPrbn"
      },
      "source": [
        "Delay Churn Labeling: Users who installed the app at the end of June need some time to exhibit churn behavior\n",
        "Minimum Interaction Requirement: et a minimum interaction threshold. Users who haven't viewed any ads may not provide meaningful data for churn prediction. You can choose to exclude them from the analysis if they haven't interacted with the app in a meaningful way, such as not viewing any ads or not performing key actions.\n",
        "Feature Engineering: Consider adding features that account for the recency of user interactions. For users who installed the app at the end of June, you can create features like \"time since installation\" and \"time since the first ad view\" to capture their behavior more"
      ]
    },
    {
      "cell_type": "markdown",
      "metadata": {
        "id": "HWxe0NFQLu4w"
      },
      "source": [
        "# Defining Churn\n",
        "We classify churn as the absence of any activity. Hence, if a user initiated the app or accessed any brochures during the target month, we regard them as not having churned."
      ]
    },
    {
      "cell_type": "code",
      "execution_count": 282,
      "metadata": {
        "id": "OfGYHUNkLu4w"
      },
      "outputs": [],
      "source": [
        "active_view = df_view_target['userId'].drop_duplicates()\n",
        "active_start = df_start_target['userId'].drop_duplicates()\n",
        "active_users = pd.concat([active_view, active_start]).drop_duplicates()"
      ]
    },
    {
      "cell_type": "code",
      "execution_count": 283,
      "metadata": {},
      "outputs": [
        {
          "data": {
            "text/plain": [
              "Index(['avg_starting_frequency', 'avg_weekly_starts', 'avg_weekly_active_days',\n",
              "       'avg_activity_frequency', 'med_page_turn', 'avg_view_duration',\n",
              "       'avg_weekly_views', 'tenure', 'active_age', 'recency'],\n",
              "      dtype='object')"
            ]
          },
          "execution_count": 283,
          "metadata": {},
          "output_type": "execute_result"
        }
      ],
      "source": [
        "df.columns"
      ]
    },
    {
      "cell_type": "code",
      "execution_count": 263,
      "metadata": {},
      "outputs": [],
      "source": [
        "# there are some users who don't have any view activity in history but they didn't churned\n",
        "df_nc = df.loc[(df['has_view']==0) & (df['has_start']==1) ]\n",
        "a = pd.merge(df_nc, active_users, left_on='user_id', right_on='userId', how='inner' , validate='one_to_one', indicator=True)"
      ]
    },
    {
      "cell_type": "code",
      "execution_count": 286,
      "metadata": {
        "id": "x0iJP81NLu4w"
      },
      "outputs": [],
      "source": [
        "# Calculating Churn label\n",
        "df = pd.merge(df_feature, active_users, left_on='user_id', right_on='userId', how='left' , validate='one_to_one', indicator=True)\n",
        "df['churn'] = np.where(df['_merge']== 'both', 1, 0)\n",
        "df = df.drop(columns=['_merge'])"
      ]
    },
    {
      "cell_type": "code",
      "execution_count": 288,
      "metadata": {
        "colab": {
          "base_uri": "https://localhost:8080/",
          "height": 143
        },
        "id": "SuinJkiiBjrg",
        "outputId": "8f866a65-4e9a-4996-ee49-89915bc32a02"
      },
      "outputs": [
        {
          "data": {
            "text/html": [
              "<div>\n",
              "<style scoped>\n",
              "    .dataframe tbody tr th:only-of-type {\n",
              "        vertical-align: middle;\n",
              "    }\n",
              "\n",
              "    .dataframe tbody tr th {\n",
              "        vertical-align: top;\n",
              "    }\n",
              "\n",
              "    .dataframe thead th {\n",
              "        text-align: right;\n",
              "    }\n",
              "</style>\n",
              "<table border=\"1\" class=\"dataframe\">\n",
              "  <thead>\n",
              "    <tr style=\"text-align: right;\">\n",
              "      <th></th>\n",
              "      <th>product_id</th>\n",
              "      <th>churn</th>\n",
              "      <th>total</th>\n",
              "      <th>churn_rate</th>\n",
              "    </tr>\n",
              "  </thead>\n",
              "  <tbody>\n",
              "    <tr>\n",
              "      <th>0</th>\n",
              "      <td>com-bonial-kaufda</td>\n",
              "      <td>1419</td>\n",
              "      <td>4897</td>\n",
              "      <td>28.976925</td>\n",
              "    </tr>\n",
              "    <tr>\n",
              "      <th>1</th>\n",
              "      <td>de-kaufda-android</td>\n",
              "      <td>355</td>\n",
              "      <td>3226</td>\n",
              "      <td>11.004340</td>\n",
              "    </tr>\n",
              "    <tr>\n",
              "      <th>2</th>\n",
              "      <td>de.kaufda.kaufda</td>\n",
              "      <td>519</td>\n",
              "      <td>1720</td>\n",
              "      <td>30.174419</td>\n",
              "    </tr>\n",
              "  </tbody>\n",
              "</table>\n",
              "</div>"
            ],
            "text/plain": [
              "          product_id  churn  total  churn_rate\n",
              "0  com-bonial-kaufda   1419   4897   28.976925\n",
              "1  de-kaufda-android    355   3226   11.004340\n",
              "2   de.kaufda.kaufda    519   1720   30.174419"
            ]
          },
          "execution_count": 288,
          "metadata": {},
          "output_type": "execute_result"
        }
      ],
      "source": [
        "# Churn Rate by Product\n",
        "df_churn_product = df.groupby('product_id').agg(\n",
        "    churn = pd.NamedAgg(column='churn', aggfunc='sum'),\n",
        "    total = pd.NamedAgg(column= 'user_id', aggfunc=pd.Series.nunique)\n",
        ").reset_index()\n",
        "df_churn_product['churn_rate'] = 100*df_churn_product['churn']/df_churn_product['total']\n",
        "df_churn_product.head()"
      ]
    },
    {
      "cell_type": "code",
      "execution_count": 290,
      "metadata": {
        "colab": {
          "base_uri": "https://localhost:8080/",
          "height": 467
        },
        "id": "rlC3vs0uuISv",
        "outputId": "77b8c0b4-15f9-4466-f261-061540522245"
      },
      "outputs": [
        {
          "data": {
            "text/plain": [
              "<Axes: xlabel='product_id'>"
            ]
          },
          "execution_count": 290,
          "metadata": {},
          "output_type": "execute_result"
        },
        {
          "data": {
            "image/png": "[encoded data removed]",
            "text/plain": [
              "<Figure size 640x480 with 1 Axes>"
            ]
          },
          "metadata": {},
          "output_type": "display_data"
        }
      ],
      "source": [
        "df_churn_product.plot.bar(x='product_id', y='churn_rate', rot=0)"
      ]
    },
    {
      "cell_type": "markdown",
      "metadata": {
        "id": "cGiu-6gULu4x"
      },
      "source": [
        "# EDA"
      ]
    },
    {
      "cell_type": "code",
      "execution_count": null,
      "metadata": {},
      "outputs": [],
      "source": [
        "# Removing High Correlated Features"
      ]
    }
  ],
  "metadata": {
    "colab": {
      "provenance": []
    },
    "kernelspec": {
      "display_name": "base",
      "language": "python",
      "name": "python3"
    },
    "language_info": {
      "codemirror_mode": {
        "name": "ipython",
        "version": 3
      },
      "file_extension": ".py",
      "mimetype": "text/x-python",
      "name": "python",
      "nbconvert_exporter": "python",
      "pygments_lexer": "ipython3",
      "version": "3.11.5"
    }
  },
  "nbformat": 4,
  "nbformat_minor": 0
}
