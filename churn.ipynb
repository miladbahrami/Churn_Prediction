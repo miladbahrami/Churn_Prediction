{
 "cells": [
  {
   "cell_type": "code",
   "execution_count": null,
   "metadata": {},
   "outputs": [],
   "source": [
    "import pandas as pd\n",
    "import numpy as np\n",
    "import matplotlib.pyplot as plt"
   ]
  },
  {
   "cell_type": "code",
   "execution_count": null,
   "metadata": {},
   "outputs": [],
   "source": [
    "df_installs = pd.read_csv('installs.txt', sep='\\t', lineterminator='\\r')\n",
    "df_starts_jul = pd.read_csv('app starts july.txt', sep='\\t', lineterminator='\\r')\n",
    "df_starts = pd.read_csv('app starts.txt', sep='\\t', lineterminator='\\r')\n",
    "df_view_july = pd.read_csv('brochure views july.txt', sep='\\t', lineterminator='\\r')\n",
    "df_view = pd.read_csv('brochure views.txt', sep='\\t', lineterminator='\\r')"
   ]
  }
 ],
 "metadata": {
  "language_info": {
   "name": "python"
  }
 },
 "nbformat": 4,
 "nbformat_minor": 2
}
